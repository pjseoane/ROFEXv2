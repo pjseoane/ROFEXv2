{
 "cells": [
  {
   "cell_type": "code",
   "execution_count": 1,
   "metadata": {},
   "outputs": [],
   "source": [
    "import sys\n",
    "#sys.path.append('C:/Users/pauli/Documents/Python Projects/ROFEX/Classes')\n",
    "sys.path.append('C:/Users/pseoane/Documents/Python Projects/ROFEX/Classes')\n",
    "from Classes import cSetUpEntorno as env\n",
    "from Classes import cSuscript as sus"
   ]
  },
  {
   "cell_type": "code",
   "execution_count": 2,
   "metadata": {},
   "outputs": [
    {
     "name": "stdout",
     "output_type": "stream",
     "text": [
      "login() OK ---> Mtcaou7fZNPoh27hVxanCrEEFy6+1WdI/sgxsw4SlCI=\n"
     ]
    }
   ],
   "source": [
    "user1=env.cROFEXSetUp()"
   ]
  },
  {
   "cell_type": "code",
   "execution_count": 3,
   "metadata": {},
   "outputs": [
    {
     "name": "stdout",
     "output_type": "stream",
     "text": [
      "Sent Suscription msg DODic18\n",
      "En goRobot***-> 1 1 -- DODic18 --> 38.4 / 38.445      1 / 20\n",
      "Sent Suscription msg RFX20Dic18\n",
      "En goRobot***-> 1 1 -- RFX20Dic18 --> 40301 / 40389      7 / 6\n",
      "En goRobot***-> 2 2 -- RFX20Dic18 --> 40330 / 40389      2 / 6\n",
      "En goRobot***-> 2 2 -- DODic18 --> 38.4 / 38.48      1 / 100\n"
     ]
    }
   ],
   "source": [
    "x1=sus.cSuscription(user1,[\"DODic18\"])\n",
    "x2=sus.cSuscription(user1,[\"RFX20Dic18\"])\n",
    "\n"
   ]
  },
  {
   "cell_type": "code",
   "execution_count": 4,
   "metadata": {},
   "outputs": [
    {
     "data": {
      "text/plain": [
       "38.4"
      ]
     },
     "execution_count": 4,
     "metadata": {},
     "output_type": "execute_result"
    },
    {
     "name": "stdout",
     "output_type": "stream",
     "text": [
      "En goRobot***-> 3 3 -- RFX20Dic18 --> 40330 / 40380      2 / 10\n",
      "En goRobot***-> 4 4 -- RFX20Dic18 --> 40330 / 40380      3 / 14\n",
      "En goRobot***-> 5 5 -- RFX20Dic18 --> 39556 / 40330      5 / 7\n",
      "En goRobot***-> 6 6 -- RFX20Dic18 --> 40301 / 40330      6 / 7\n"
     ]
    }
   ],
   "source": [
    "x1.getBid()"
   ]
  },
  {
   "cell_type": "code",
   "execution_count": 5,
   "metadata": {},
   "outputs": [
    {
     "name": "stdout",
     "output_type": "stream",
     "text": [
      "[1543936868413, 'DODic18', 38.4, 38.48, 1, 100, 2]  mensajes>>>>>: 2\n",
      "[1543936876331, 'RFX20Dic18', 40301, 40330, 6, 7, 6] mensajes>>>>>>: 6\n",
      "En goRobot***-> 7 7 -- RFX20Dic18 --> 40300 / 40330      10 / 7\n",
      "En goRobot***-> 8 8 -- RFX20Dic18 --> 40300 / 40330      10 / 1\n",
      "En goRobot***-> 9 9 -- RFX20Dic18 --> 40300 / 40330      4 / 1\n",
      "En goRobot***-> 10 10 -- RFX20Dic18 --> 40300 / 40355      3 / 22\n",
      "En goRobot***-> 3 3 -- DODic18 --> 38.43 / 38.48      45 / 150\n",
      "En goRobot***-> 4 4 -- DODic18 --> 38.43 / 38.48      45 / 146\n",
      "En goRobot***-> 11 11 -- RFX20Dic18 --> 40300 / 40355      3 / 19\n",
      "En goRobot***-> 12 12 -- RFX20Dic18 --> 40290 / 40355      5 / 19\n",
      "En goRobot***-> 13 13 -- RFX20Dic18 --> 40290 / 40355      5 / 22\n",
      "En goRobot***-> 14 14 -- RFX20Dic18 --> 39556 / 40355      5 / 21\n",
      "En goRobot***-> 15 15 -- RFX20Dic18 --> 40290 / 40355      5 / 22\n",
      "En goRobot***-> 16 16 -- RFX20Dic18 --> 40290 / 40355      5 / 17\n",
      "En goRobot***-> 5 5 -- DODic18 --> 38.42 / 38.48      40 / 146\n",
      "En goRobot***-> 6 6 -- DODic18 --> 38.42 / 38.48      40 / 150\n",
      "En goRobot***-> 17 17 -- RFX20Dic18 --> 40290 / 40350      5 / 7\n",
      "En goRobot***-> 18 18 -- RFX20Dic18 --> 39556 / 40290      5 / 3\n",
      "En goRobot***-> 7 7 -- DODic18 --> 38.42 / 38.47      40 / 30\n",
      "En goRobot***-> 19 19 -- RFX20Dic18 --> 40290 / 40350      9 / 7\n",
      "En goRobot***-> 20 20 -- RFX20Dic18 --> 40290 / 40350      12 / 7\n",
      "En goRobot***-> 21 21 -- RFX20Dic18 --> 40290 / 40345      12 / 20\n",
      "En goRobot***-> 22 22 -- RFX20Dic18 --> 40291 / 40345      2 / 21\n",
      "En goRobot***-> 23 23 -- RFX20Dic18 --> 40291 / 40345      2 / 22\n",
      "En goRobot***-> 24 24 -- RFX20Dic18 --> 40290 / 40345      4 / 22\n",
      "En goRobot***-> 25 25 -- RFX20Dic18 --> 40280 / 40345      200 / 22\n",
      "En goRobot***-> 26 26 -- RFX20Dic18 --> 40291 / 40345      10 / 21\n",
      "En goRobot***-> 27 27 -- RFX20Dic18 --> 40291 / 40345      10 / 22\n",
      "En goRobot***-> 28 28 -- RFX20Dic18 --> 40280 / 40345      200 / 22\n",
      "En goRobot***-> 29 29 -- RFX20Dic18 --> 40280 / 40345      60 / 21\n",
      "En goRobot***-> 30 30 -- RFX20Dic18 --> 40280 / 40345      60 / 22\n",
      "En goRobot***-> 8 8 -- DODic18 --> 38.4 / 38.47      1 / 30\n",
      "En goRobot***-> 31 31 -- RFX20Dic18 --> 40280 / 40345      10 / 22\n",
      "En goRobot***-> 32 32 -- RFX20Dic18 --> 40280 / 40345      5 / 22\n",
      "En goRobot***-> 9 9 -- DODic18 --> 38.4 / 38.48      1 / 150\n",
      "En goRobot***-> 33 33 -- RFX20Dic18 --> 40270 / 40280      2 / 1\n",
      "En goRobot***-> 10 10 -- DODic18 --> 38.42 / 38.48      15 / 150\n",
      "En goRobot***-> 34 34 -- RFX20Dic18 --> 40200 / 40280      1 / 1\n",
      "En goRobot***-> 35 35 -- RFX20Dic18 --> 40200 / 40280      6 / 1\n",
      "En goRobot***-> 36 36 -- RFX20Dic18 --> 40200 / 40280      16 / 1\n",
      "En goRobot***-> 37 37 -- RFX20Dic18 --> 40200 / 40280      15 / 1\n",
      "En goRobot***-> 38 38 -- RFX20Dic18 --> 40200 / 40280      18 / 1\n",
      "En goRobot***-> 39 39 -- RFX20Dic18 --> 40200 / 40290      10 / 8\n",
      "En goRobot***-> 40 40 -- RFX20Dic18 --> 40201 / 40290      3 / 8\n",
      "En goRobot***-> 11 11 -- DODic18 --> 38.42 / 38.47      15 / 50\n",
      "En goRobot***-> 41 41 -- RFX20Dic18 --> 39556 / 40201      5 / 2\n",
      "En goRobot***-> 42 42 -- RFX20Dic18 --> 40201 / 40290      1 / 7\n",
      "En goRobot***-> 43 43 -- RFX20Dic18 --> 40201 / 40290      1 / 8\n"
     ]
    }
   ],
   "source": [
    "from Classes import cAlgos as bot\n",
    "bot1=bot.cRobot(x1,x2)"
   ]
  },
  {
   "cell_type": "code",
   "execution_count": null,
   "metadata": {},
   "outputs": [],
   "source": []
  }
 ],
 "metadata": {
  "kernelspec": {
   "display_name": "Python 3",
   "language": "python",
   "name": "python3"
  },
  "language_info": {
   "codemirror_mode": {
    "name": "ipython",
    "version": 3
   },
   "file_extension": ".py",
   "mimetype": "text/x-python",
   "name": "python",
   "nbconvert_exporter": "python",
   "pygments_lexer": "ipython3",
   "version": "3.6.5"
  }
 },
 "nbformat": 4,
 "nbformat_minor": 1
}
