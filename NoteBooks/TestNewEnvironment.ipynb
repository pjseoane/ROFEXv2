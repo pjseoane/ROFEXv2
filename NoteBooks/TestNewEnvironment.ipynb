{
 "cells": [
  {
   "cell_type": "code",
   "execution_count": 1,
   "metadata": {},
   "outputs": [],
   "source": [
    "import sys\n",
    "global path\n",
    "path= 'C:/Users/pauli/'\n",
    "#path= 'C:Users/pseoane'\n",
    "sys.path.append(path+'Documents/Python Projects/Rofexv2')\n",
    "import Classes.cSetUpEntorno as env\n",
    "import Classes.cSuscriptV2 as sus\n",
    "#from Classes import cSetUpEntorno as env\n",
    "#from Classes import cSuscriptV2 as sus\n"
   ]
  },
  {
   "cell_type": "code",
   "execution_count": 2,
   "metadata": {},
   "outputs": [
    {
     "name": "stdout",
     "output_type": "stream",
     "text": [
      "login() OK ---> S+nMaQDdcp6YtQ2o7Se0gudeOcMvBkbfPI1jFT9vIDg=\n"
     ]
    }
   ],
   "source": [
    "user1=env.cROFEXSetUp()"
   ]
  },
  {
   "cell_type": "code",
   "execution_count": null,
   "metadata": {},
   "outputs": [],
   "source": [
    "print(user1.instrumentos())\n",
    "user1.newSingleOrder(\"ROFX\",\"DoDic19\",\"56.90\",\"10\",\"LIMIT\",\"SELL\",\"DAY\",user1.account,\"TRUE\")\n",
    "user1.consultarOrdenesActivas(user1.account)\n",
    "user1.consultarOrdenesAllClientOrder(user1.account)"
   ]
  },
  {
   "cell_type": "code",
   "execution_count": null,
   "metadata": {},
   "outputs": [],
   "source": [
    "ticker1=\"DOMar19\"\n",
    "ticker2=\"RFX20Mar19\"\n",
    "suscriptArray=[ticker1,ticker2]\n",
    "rob1=sus.cSuscription(user1,suscriptArray)"
   ]
  },
  {
   "cell_type": "code",
   "execution_count": null,
   "metadata": {},
   "outputs": [],
   "source": [
    "print(rob1)\n"
   ]
  },
  {
   "cell_type": "code",
   "execution_count": null,
   "metadata": {},
   "outputs": [],
   "source": [
    "a1=[\"a,b,c\"]\n"
   ]
  },
  {
   "cell_type": "code",
   "execution_count": null,
   "metadata": {},
   "outputs": [],
   "source": [
    "print(a1)"
   ]
  },
  {
   "cell_type": "code",
   "execution_count": null,
   "metadata": {},
   "outputs": [],
   "source": [
    "a1.append(\"b,c,c\")"
   ]
  },
  {
   "cell_type": "code",
   "execution_count": null,
   "metadata": {},
   "outputs": [],
   "source": [
    "print(a1)"
   ]
  },
  {
   "cell_type": "code",
   "execution_count": null,
   "metadata": {},
   "outputs": [],
   "source": [
    "print (a1[1][0])"
   ]
  },
  {
   "cell_type": "code",
   "execution_count": null,
   "metadata": {},
   "outputs": [],
   "source": [
    "suscriptArray.index(\"RFX20Dic18\")\n",
    "arr=[1][4]\n"
   ]
  },
  {
   "cell_type": "code",
   "execution_count": null,
   "metadata": {},
   "outputs": [],
   "source": [
    "w,h=8,5\n",
    "matrix= [[0 for x in range(w)] for y in range(h)] \n"
   ]
  }
 ],
 "metadata": {
  "kernelspec": {
   "display_name": "Python 3",
   "language": "python",
   "name": "python3"
  },
  "language_info": {
   "codemirror_mode": {
    "name": "ipython",
    "version": 3
   },
   "file_extension": ".py",
   "mimetype": "text/x-python",
   "name": "python",
   "nbconvert_exporter": "python",
   "pygments_lexer": "ipython3",
   "version": "3.7.0"
  }
 },
 "nbformat": 4,
 "nbformat_minor": 2
}
