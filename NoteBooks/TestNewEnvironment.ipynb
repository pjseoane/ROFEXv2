{
 "cells": [
  {
   "cell_type": "code",
   "execution_count": 1,
   "metadata": {},
   "outputs": [],
   "source": [
    "import sys\n",
    "global path\n",
    "path= 'C:/Users/pauli/'\n",
    "#path= 'C:Users/pseoane'\n",
    "sys.path.append(path+'Documents/Python Projects/Rofexv2')\n",
    "import Classes.cSetUpEntorno as env\n",
    "import Classes.cSuscriptV2 as sus\n"
   ]
  },
  {
   "cell_type": "code",
   "execution_count": 2,
   "metadata": {},
   "outputs": [
    {
     "name": "stdout",
     "output_type": "stream",
     "text": [
      "login() OK ---> bnquuDTgduF1KD4V3Mjr4NbUEnV/U9QWJIJ4j8AZaKU=\n"
     ]
    }
   ],
   "source": [
    "user1=env.cROFEXSetUp()"
   ]
  },
  {
   "cell_type": "code",
   "execution_count": 4,
   "metadata": {},
   "outputs": [
    {
     "data": {
      "text/plain": [
       "{'status': 'OK',\n",
       " 'order': {'clientId': '292332469265855', 'proprietary': 'PBCP'}}"
      ]
     },
     "execution_count": 4,
     "metadata": {},
     "output_type": "execute_result"
    }
   ],
   "source": [
    "#print(user1.instrumentos())\n",
    "user1.newSingleOrder(\"ROFX\",\"DoDic19\",\"56.90\",\"10\",\"LIMIT\",\"SELL\",\"DAY\",user1.account,\"TRUE\")"
   ]
  },
  {
   "cell_type": "code",
   "execution_count": 5,
   "metadata": {},
   "outputs": [
    {
     "data": {
      "text/plain": [
       "{'status': 'OK',\n",
       " 'orders': [{'orderId': '79429594',\n",
       "   'clOrdId': '292332469265855',\n",
       "   'proprietary': 'PBCP',\n",
       "   'execId': '190328064612-fix1-80973',\n",
       "   'accountId': {'id': 'REM232'},\n",
       "   'instrumentId': {'marketId': 'ROFX', 'symbol': 'DODic19'},\n",
       "   'price': 56.9,\n",
       "   'orderQty': 10,\n",
       "   'ordType': 'LIMIT',\n",
       "   'side': 'SELL',\n",
       "   'timeInForce': 'DAY',\n",
       "   'transactTime': '20190328-08:27:49.579-0300',\n",
       "   'avgPx': 0,\n",
       "   'lastPx': 0,\n",
       "   'lastQty': 0,\n",
       "   'cumQty': 0,\n",
       "   'leavesQty': 10,\n",
       "   'status': 'NEW',\n",
       "   'text': 'Aceptada '}]}"
      ]
     },
     "execution_count": 5,
     "metadata": {},
     "output_type": "execute_result"
    }
   ],
   "source": [
    "user1.consultarOrdenesActivas(user1.account)"
   ]
  },
  {
   "cell_type": "code",
   "execution_count": 6,
   "metadata": {},
   "outputs": [
    {
     "data": {
      "text/plain": [
       "{'status': 'OK',\n",
       " 'orders': [{'orderId': '79427299',\n",
       "   'clOrdId': '292331289244125',\n",
       "   'proprietary': 'PBCP',\n",
       "   'execId': 'T3352072',\n",
       "   'accountId': {'id': 'REM232'},\n",
       "   'instrumentId': {'marketId': 'ROFX', 'symbol': 'DODic19'},\n",
       "   'price': 56.9,\n",
       "   'orderQty': 10,\n",
       "   'ordType': 'LIMIT',\n",
       "   'side': 'SELL',\n",
       "   'timeInForce': 'DAY',\n",
       "   'transactTime': '20190328-08:13:52.200-0300',\n",
       "   'avgPx': 57.985,\n",
       "   'lastPx': 56.9,\n",
       "   'lastQty': 5,\n",
       "   'cumQty': 10,\n",
       "   'leavesQty': 0,\n",
       "   'status': 'FILLED',\n",
       "   'text': 'Operada '},\n",
       "  {'orderId': '79429594',\n",
       "   'clOrdId': '292332469265855',\n",
       "   'proprietary': 'PBCP',\n",
       "   'execId': '190328064612-fix1-80973',\n",
       "   'accountId': {'id': 'REM232'},\n",
       "   'instrumentId': {'marketId': 'ROFX', 'symbol': 'DODic19'},\n",
       "   'price': 56.9,\n",
       "   'orderQty': 10,\n",
       "   'ordType': 'LIMIT',\n",
       "   'side': 'SELL',\n",
       "   'timeInForce': 'DAY',\n",
       "   'transactTime': '20190328-08:27:49.579-0300',\n",
       "   'avgPx': 0,\n",
       "   'lastPx': 0,\n",
       "   'lastQty': 0,\n",
       "   'cumQty': 0,\n",
       "   'leavesQty': 10,\n",
       "   'status': 'NEW',\n",
       "   'text': 'Aceptada '},\n",
       "  {'orderId': '79428041',\n",
       "   'clOrdId': '292331837253663',\n",
       "   'proprietary': 'PBCP',\n",
       "   'execId': '190328064612-fix1-80975',\n",
       "   'accountId': {'id': 'REM232'},\n",
       "   'instrumentId': {'marketId': 'ROFX', 'symbol': 'DODic19'},\n",
       "   'price': 56.9,\n",
       "   'orderQty': 10,\n",
       "   'ordType': 'LIMIT',\n",
       "   'side': 'SELL',\n",
       "   'timeInForce': 'DAY',\n",
       "   'transactTime': '20190328-08:27:49.580-0300',\n",
       "   'avgPx': 0,\n",
       "   'lastPx': 0,\n",
       "   'lastQty': 0,\n",
       "   'cumQty': 0,\n",
       "   'leavesQty': 10,\n",
       "   'status': 'CANCELLED',\n",
       "   'text': 'Reemplazada'}]}"
      ]
     },
     "execution_count": 6,
     "metadata": {},
     "output_type": "execute_result"
    }
   ],
   "source": [
    "user1.consultarOrdenesAllClientOrder(user1.account)"
   ]
  },
  {
   "cell_type": "code",
   "execution_count": 7,
   "metadata": {},
   "outputs": [
    {
     "name": "stdout",
     "output_type": "stream",
     "text": [
      "Sent Suscription msg DOMar19\n",
      "Test rTEST\n",
      "Process msg OK\n",
      "Sent Suscription msg RFX20Mar19\n",
      "Test rTEST\n",
      "Process msg OK\n"
     ]
    }
   ],
   "source": [
    "ticker1=\"DOMar19\"\n",
    "ticker2=\"RFX20Mar19\"\n",
    "suscriptArray=[ticker1,ticker2]\n",
    "rob1=sus.cSuscription(user1,suscriptArray)"
   ]
  },
  {
   "cell_type": "code",
   "execution_count": null,
   "metadata": {},
   "outputs": [],
   "source": [
    "\n"
   ]
  },
  {
   "cell_type": "code",
   "execution_count": null,
   "metadata": {},
   "outputs": [],
   "source": [
    "a1=[\"a,b,c\"]\n"
   ]
  },
  {
   "cell_type": "code",
   "execution_count": null,
   "metadata": {},
   "outputs": [],
   "source": [
    "print(a1)"
   ]
  },
  {
   "cell_type": "code",
   "execution_count": null,
   "metadata": {},
   "outputs": [],
   "source": [
    "a1.append(\"b,c,c\")"
   ]
  },
  {
   "cell_type": "code",
   "execution_count": null,
   "metadata": {},
   "outputs": [],
   "source": [
    "print(a1)"
   ]
  },
  {
   "cell_type": "code",
   "execution_count": null,
   "metadata": {},
   "outputs": [],
   "source": [
    "print (a1[1][0])"
   ]
  },
  {
   "cell_type": "code",
   "execution_count": null,
   "metadata": {},
   "outputs": [],
   "source": [
    "suscriptArray.index(\"RFX20Dic18\")\n",
    "arr=[1][4]\n"
   ]
  },
  {
   "cell_type": "code",
   "execution_count": null,
   "metadata": {},
   "outputs": [],
   "source": [
    "w,h=8,5\n",
    "matrix= [[0 for x in range(w)] for y in range(h)] \n"
   ]
  }
 ],
 "metadata": {
  "kernelspec": {
   "display_name": "Python 3",
   "language": "python",
   "name": "python3"
  },
  "language_info": {
   "codemirror_mode": {
    "name": "ipython",
    "version": 3
   },
   "file_extension": ".py",
   "mimetype": "text/x-python",
   "name": "python",
   "nbconvert_exporter": "python",
   "pygments_lexer": "ipython3",
   "version": "3.7.0"
  }
 },
 "nbformat": 4,
 "nbformat_minor": 2
}
