{
 "cells": [
  {
   "cell_type": "code",
   "execution_count": 1,
   "metadata": {},
   "outputs": [],
   "source": [
    "import sys\n",
    "#sys.path.append('C:/Users/pauli/Documents/Python Projects/ROFEX/Classes')\n",
    "sys.path.append('C:/Users/pseoane/Documents/Python Projects/ROFEXv2/Classes')\n",
    "from Classes import cSetUpEntorno as env\n",
    "from Classes import cSuscript as sus"
   ]
  },
  {
   "cell_type": "code",
   "execution_count": 2,
   "metadata": {},
   "outputs": [
    {
     "name": "stdout",
     "output_type": "stream",
     "text": [
      "login() OK ---> tuMkzFlL1Fcjh7qBCdNfzPxycjLyR+10TZVCAl2wRL0=\n"
     ]
    }
   ],
   "source": [
    "user1=env.cROFEXSetUp()"
   ]
  },
  {
   "cell_type": "code",
   "execution_count": 3,
   "metadata": {},
   "outputs": [
    {
     "name": "stdout",
     "output_type": "stream",
     "text": [
      "Sent Suscription msg DODic18\n"
     ]
    },
    {
     "name": "stdout",
     "output_type": "stream",
     "text": [
      "En goRobot***-> 1 1 -- DODic18 --> 0 / 0      0 / 0\n"
     ]
    },
    {
     "name": "stdout",
     "output_type": "stream",
     "text": [
      "Sent Suscription msg RFX20Dic18\n"
     ]
    },
    {
     "name": "stdout",
     "output_type": "stream",
     "text": [
      "En goRobot***-> 1 1 -- RFX20Dic18 --> 0 / 40720      0 / 5\n"
     ]
    }
   ],
   "source": [
    "x1=sus.cSuscription(user1,[\"DODic18\"])\n",
    "x2=sus.cSuscription(user1,[\"RFX20Dic18\"])\n",
    "\n"
   ]
  },
  {
   "cell_type": "code",
   "execution_count": null,
   "metadata": {},
   "outputs": [],
   "source": [
    "x1.getBid()"
   ]
  },
  {
   "cell_type": "code",
   "execution_count": null,
   "metadata": {},
   "outputs": [],
   "source": [
    "from Classes import cAlgos as bot\n",
    "bot1=bot.cRobot(x1,x2)"
   ]
  }
 ],
 "metadata": {
  "kernelspec": {
   "display_name": "Python 3",
   "language": "python",
   "name": "python3"
  },
  "language_info": {
   "codemirror_mode": {
    "name": "ipython",
    "version": 3
   },
   "file_extension": ".py",
   "mimetype": "text/x-python",
   "name": "python",
   "nbconvert_exporter": "python",
   "pygments_lexer": "ipython3",
   "version": "3.6.5"
  }
 },
 "nbformat": 4,
 "nbformat_minor": 1
}
